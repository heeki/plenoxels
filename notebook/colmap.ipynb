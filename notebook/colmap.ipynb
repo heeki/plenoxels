{
  "nbformat": 4,
  "nbformat_minor": 0,
  "metadata": {
    "colab": {
      "name": "Colmap.ipynb",
      "provenance": []
    },
    "kernelspec": {
      "name": "python3",
      "display_name": "Python 3"
    },
    "language_info": {
      "name": "python"
    }
  },
  "cells": [
    {
      "cell_type": "code",
      "execution_count": null,
      "metadata": {
        "colab": {
          "base_uri": "https://localhost:8080/"
        },
        "id": "zze3n1Pe7D4x",
        "outputId": "a94fc445-3dc8-402f-ad4a-8c04e034ed36"
      },
      "outputs": [
        {
          "output_type": "stream",
          "name": "stdout",
          "text": [
            "Cloning into 'colmap'...\n",
            "remote: Enumerating objects: 14070, done.\u001b[K\n",
            "remote: Counting objects: 100% (1/1), done.\u001b[K\n",
            "remote: Total 14070 (delta 0), reused 1 (delta 0), pack-reused 14069\u001b[K\n",
            "Receiving objects: 100% (14070/14070), 12.02 MiB | 10.13 MiB/s, done.\n",
            "Resolving deltas: 100% (11141/11141), done.\n"
          ]
        }
      ],
      "source": [
        "!git clone https://github.com/colmap/colmap"
      ]
    },
    {
      "cell_type": "code",
      "source": [
        "# Configure and compile Colmap\n",
        "%cd colmap\n",
        "!git checkout dev\n",
        "!mkdir build\n",
        "!cd build\n",
        "!cmake .. -DQt5_DIR=/usr/local/opt/qt/lib/cmake/Qt5\n",
        "!make\n",
        "!sudo make install"
      ],
      "metadata": {
        "colab": {
          "base_uri": "https://localhost:8080/"
        },
        "id": "DaFFpz-t7MpS",
        "outputId": "4b54b5f7-f93e-4b22-b241-2223c9c0037d"
      },
      "execution_count": null,
      "outputs": [
        {
          "output_type": "stream",
          "name": "stdout",
          "text": [
            "[Errno 2] No such file or directory: 'colmap'\n",
            "/content/colmap\n",
            "Already on 'dev'\n",
            "Your branch is up to date with 'origin/dev'.\n",
            "mkdir: cannot create directory ‘build’: File exists\n",
            "\u001b[0mCMake Error: The source directory \"/content\" does not appear to contain CMakeLists.txt.\n",
            "Specify --help for usage, or press the help button on the CMake GUI.\u001b[0m\n",
            "make: *** No targets specified and no makefile found.  Stop.\n",
            "make: *** No rule to make target 'install'.  Stop.\n"
          ]
        }
      ]
    },
    {
      "cell_type": "code",
      "source": [
        "# Run Colmap\n",
        "!colmap -h\n",
        "!colmap gui"
      ],
      "metadata": {
        "id": "uQ8wSKvC7ZqG"
      },
      "execution_count": null,
      "outputs": []
    },
    {
      "cell_type": "markdown",
      "source": [
        "Alternative in the event colmap gui cannot open either locally or on Colab/Jupyter:"
      ],
      "metadata": {
        "id": "jMm4ljCZrSO8"
      }
    },
    {
      "cell_type": "code",
      "source": [
        "!apt-get install colmap ffmpeg"
      ],
      "metadata": {
        "id": "jihRKtlCrDKe"
      },
      "execution_count": null,
      "outputs": []
    },
    {
      "cell_type": "code",
      "source": [
        "!colmap feature_extractor --database_path database.db --image_path images --SiftExtraction.use_gpu 0 --ImageReader.single_camera 1\n",
        "!colmap exhaustive_matcher --database_path database.db --SiftMatching.use_gpu 0\n",
        "!mkdir sparse\n",
        "!colmap mapper --database_path database.db --image_path images --output_path sparse\n",
        "!mkdir dense\n",
        "!colmap image_undistorter --image_path images --input_path sparse/0 --output_path dense --output_type COLMAP --max_image_size 2000"
      ],
      "metadata": {
        "id": "sCKNctu8rRE7"
      },
      "execution_count": null,
      "outputs": []
    }
  ]
}